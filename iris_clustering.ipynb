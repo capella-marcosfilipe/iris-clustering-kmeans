{
 "cells": [
  {
   "cell_type": "markdown",
   "id": "13b62ebe",
   "metadata": {},
   "source": [
    "# Iris Dataset Clustering"
   ]
  },
  {
   "cell_type": "markdown",
   "id": "59deec9e",
   "metadata": {},
   "source": [
    "## Importing libs"
   ]
  },
  {
   "cell_type": "code",
   "execution_count": 1,
   "id": "22ca7129",
   "metadata": {},
   "outputs": [],
   "source": [
    "import pandas as pd\n",
    "import plotly.express as px\n",
    "import matplotlib.pyplot as plt"
   ]
  },
  {
   "cell_type": "markdown",
   "id": "647da035",
   "metadata": {},
   "source": [
    "## Loading Dataset"
   ]
  },
  {
   "cell_type": "code",
   "execution_count": 2,
   "id": "78e9647e",
   "metadata": {},
   "outputs": [],
   "source": [
    "from sklearn.datasets import load_iris\n",
    "iris = load_iris()\n",
    "X = iris.data         # Atributos das flores\n",
    "y = iris.target       # Classes reais (usadas apenas para avaliação)"
   ]
  }
 ],
 "metadata": {
  "kernelspec": {
   "display_name": "iris-clustering-kmeans",
   "language": "python",
   "name": "python3"
  },
  "language_info": {
   "codemirror_mode": {
    "name": "ipython",
    "version": 3
   },
   "file_extension": ".py",
   "mimetype": "text/x-python",
   "name": "python",
   "nbconvert_exporter": "python",
   "pygments_lexer": "ipython3",
   "version": "3.10.11"
  }
 },
 "nbformat": 4,
 "nbformat_minor": 5
}
